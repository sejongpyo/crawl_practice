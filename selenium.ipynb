{
 "cells": [
  {
   "cell_type": "markdown",
   "metadata": {},
   "source": [
    "# 구글 검색 결과와 리스트를 가져와라"
   ]
  },
  {
   "cell_type": "code",
   "execution_count": 5,
   "metadata": {},
   "outputs": [
    {
     "ename": "TypeError",
     "evalue": "'module' object is not callable",
     "output_type": "error",
     "traceback": [
      "\u001b[0;31m---------------------------------------------------------------------------\u001b[0m",
      "\u001b[0;31mTypeError\u001b[0m                                 Traceback (most recent call last)",
      "\u001b[0;32m<ipython-input-5-4a5b19acbf6c>\u001b[0m in \u001b[0;36m<module>\u001b[0;34m\u001b[0m\n\u001b[1;32m      1\u001b[0m \u001b[0;32mfrom\u001b[0m \u001b[0mselenium\u001b[0m \u001b[0;32mimport\u001b[0m \u001b[0mwebdriver\u001b[0m\u001b[0;34m\u001b[0m\u001b[0;34m\u001b[0m\u001b[0m\n\u001b[0;32m----> 2\u001b[0;31m \u001b[0mdriver\u001b[0m \u001b[0;34m=\u001b[0m \u001b[0mwebdriver\u001b[0m\u001b[0;34m(\u001b[0m\u001b[0;34m'./chromedriver.exe'\u001b[0m\u001b[0;34m)\u001b[0m\u001b[0;34m\u001b[0m\u001b[0;34m\u001b[0m\u001b[0m\n\u001b[0m\u001b[1;32m      3\u001b[0m \u001b[0mdriver\u001b[0m\u001b[0;34m.\u001b[0m\u001b[0mimplicitly_wait\u001b[0m\u001b[0;34m(\u001b[0m\u001b[0;36m2\u001b[0m\u001b[0;34m)\u001b[0m\u001b[0;34m\u001b[0m\u001b[0;34m\u001b[0m\u001b[0m\n",
      "\u001b[0;31mTypeError\u001b[0m: 'module' object is not callable"
     ]
    }
   ],
   "source": [
    "from selenium import webdriver\n",
    "driver = webdriver('./chromedriver.exe')\n",
    "driver.implicitly_wait(2)"
   ]
  },
  {
   "cell_type": "code",
   "execution_count": 1,
   "metadata": {},
   "outputs": [
    {
     "name": "stdout",
     "output_type": "stream",
     "text": [
      "Requirement already satisfied: selenium in /Users/sejongpyo/python_project/sba/venv/lib/python3.8/site-packages (3.141.0)\n",
      "Requirement already satisfied: urllib3 in /Users/sejongpyo/python_project/sba/venv/lib/python3.8/site-packages (from selenium) (1.25.10)\n",
      "\u001b[33mWARNING: You are using pip version 20.1.1; however, version 20.2.3 is available.\n",
      "You should consider upgrading via the '/Users/sejongpyo/python_project/sba/venv/bin/python -m pip install --upgrade pip' command.\u001b[0m\n",
      "Note: you may need to restart the kernel to use updated packages.\n"
     ]
    }
   ],
   "source": [
    "pip install selenium"
   ]
  },
  {
   "cell_type": "code",
   "execution_count": 6,
   "metadata": {},
   "outputs": [
    {
     "ename": "SyntaxError",
     "evalue": "invalid syntax (<ipython-input-6-63bf8a0a4abe>, line 2)",
     "output_type": "error",
     "traceback": [
      "\u001b[0;36m  File \u001b[0;32m\"<ipython-input-6-63bf8a0a4abe>\"\u001b[0;36m, line \u001b[0;32m2\u001b[0m\n\u001b[0;31m    driver.(2)\u001b[0m\n\u001b[0m           ^\u001b[0m\n\u001b[0;31mSyntaxError\u001b[0m\u001b[0;31m:\u001b[0m invalid syntax\n"
     ]
    }
   ],
   "source": [
    "driver.get(\"https://www.google.co.kr/\")\n",
    "driver.(2)"
   ]
  },
  {
   "cell_type": "code",
   "execution_count": 114,
   "metadata": {},
   "outputs": [],
   "source": [
    "input_element = driver.find_element_by_name(\"q\")\n",
    "input_element.(\"방탄소년단 다이너마이트\")\n",
    "input_element.()\n",
    "#driver.back()"
   ]
  },
  {
   "cell_type": "code",
   "execution_count": 88,
   "metadata": {},
   "outputs": [
    {
     "data": {
      "text/plain": [
       "'https://www.google.co.kr/search?source=hp&ei=Wd5PX_O5IJL_wAPSi4SQDA&q=%EB%B0%A9%ED%83%84%EC%86%8C%EB%85%84%EB%8B%A8+%EB%8B%A4%EC%9D%B4%EB%84%88%EB%A7%88%EC%9D%B4%ED%8A%B8'"
      ]
     },
     "execution_count": 88,
     "metadata": {},
     "output_type": "execute_result"
    }
   ],
   "source": [
    "driver.current_url"
   ]
  },
  {
   "cell_type": "code",
   "execution_count": null,
   "metadata": {},
   "outputs": [],
   "source": [
    "#rso > div:nth-child(1) > div > table > tbody > tr.mslg.dmenKe > td:nth-child(1) > div > span > h3\n",
    "\n",
    "\n",
    "#rso > div:nth-child(2) > div > div.r > a > h3"
   ]
  },
  {
   "cell_type": "code",
   "execution_count": null,
   "metadata": {},
   "outputs": [],
   "source": [
    "#rso > div:nth-child(1) > div > div > div.r > a > h3\n",
    "#rso > div:nth-child(2) > div > div.r > a > h3\n",
    "#rso > div:nth-child(3) > div > div.r > a > h3"
   ]
  },
  {
   "cell_type": "code",
   "execution_count": 89,
   "metadata": {},
   "outputs": [
    {
     "name": "stdout",
     "output_type": "stream",
     "text": [
      "Dynamite(방탄소년단) - 나무위키\n",
      "콘서트 전단 돌리던 BTS, 빌보드 완전 정복 - 조선일보\n",
      "방탄소년단 VMA 4관왕…뉴욕·서울 배경 '다이너마이트' 첫선 ...\n",
      "방탄소년단 '다이너마이트' MV, 4일만에 2억뷰 돌파…최단 기록 ...\n",
      "BTS, '다이너마이트' 신기록 행진...최단 시간 1억뷰 달성 - BBC ...\n",
      "Dynamite (방탄소년단의 노래) - 위키백과, 우리 모두의 백과사전\n"
     ]
    }
   ],
   "source": [
    "g_list = driver.find_elements_by_css_selector('div.r > a > h3')\n",
    "for i in g_list:\n",
    "    print(i.)"
   ]
  },
  {
   "cell_type": "code",
   "execution_count": 90,
   "metadata": {},
   "outputs": [
    {
     "data": {
      "text/plain": [
       "6"
      ]
     },
     "execution_count": 90,
     "metadata": {},
     "output_type": "execute_result"
    }
   ],
   "source": [
    "len(g_list)"
   ]
  },
  {
   "cell_type": "code",
   "execution_count": 97,
   "metadata": {},
   "outputs": [
    {
     "name": "stdout",
     "output_type": "stream",
     "text": [
      "6\n",
      "https://namu.wiki/w/Dynamite(%EB%B0%A9%ED%83%84%EC%86%8C%EB%85%84%EB%8B%A8)\n",
      "https://www.chosun.com/culture-life/culture_general/2020/09/02/C3ABLKPQ4NFMTGPFMXZYGGW3GM/\n",
      "https://news.joins.com/article/23860750\n",
      "https://www.donga.com/news/Entertainment/article/all/20200826/102650812/1\n",
      "https://www.bbc.com/korean/news-53899882\n",
      "https://ko.wikipedia.org/wiki/Dynamite_(%EB%B0%A9%ED%83%84%EC%86%8C%EB%85%84%EB%8B%A8%EC%9D%98_%EB%85%B8%EB%9E%98)\n"
     ]
    }
   ],
   "source": [
    "g_href = driver.('div.r > a')\n",
    "print(len(g_href))\n",
    "for i in g_href:\n",
    "    print(i.('href'))"
   ]
  },
  {
   "cell_type": "markdown",
   "metadata": {},
   "source": [
    "## 7페이지 까지 가져오기"
   ]
  },
  {
   "cell_type": "markdown",
   "metadata": {},
   "source": [
    "- 제목과 링크를 가져오기\n",
    "- 데이터프레임으로 만들어봐여\n",
    "- 엑셀로 바꿔서 폴더에 파일로 저장을 하세요"
   ]
  },
  {
   "cell_type": "code",
   "execution_count": null,
   "metadata": {},
   "outputs": [],
   "source": []
  },
  {
   "cell_type": "markdown",
   "metadata": {},
   "source": [
    "# for num in range(3,9):\n",
    "    print(num)"
   ]
  },
  {
   "cell_type": "code",
   "execution_count": 99,
   "metadata": {},
   "outputs": [],
   "source": [
    "num = 3"
   ]
  },
  {
   "cell_type": "code",
   "execution_count": 100,
   "metadata": {},
   "outputs": [],
   "source": [
    "driver.('#xjs > div > table > tbody > tr > td:nth-child(%d) > a' % num).click()"
   ]
  },
  {
   "cell_type": "code",
   "execution_count": 101,
   "metadata": {
    "scrolled": true
   },
   "outputs": [
    {
     "name": "stdout",
     "output_type": "stream",
     "text": [
      "BTS (방탄소년단) 'Dynamite' Official MV - YouTube\n",
      "일본방송 빌보드 1위한 BTS 방탄소년단 특집 신곡 ... - YouTube\n",
      "[한글자막] 방탄소년단 (BTS) Dynamite(다이너마이트) 미국 ...\n",
      "전세계서 터진 BTS '다이너마이트'…미국 현지 반응은? - YouTube\n",
      "우리애 목소리가 안들려요…방탄소년단 멤버별 파트 분배 논란 ...\n",
      "방탄소년단(BTS) 신곡 '다이너마이트(Dynamite)' 뮤직비디오 ...\n",
      "방탄소년단, 디스코로 컴백…오늘 '다이너마이트' 공개 :: 공감 ...\n",
      "방탄소년단, 신곡 '다이너마이트' 공개되자마자 '폭발' - UPI뉴스\n",
      "BTS '다이너마이트', 스포티파이 '글로벌 톱 50' 한국 최초 1위 ...\n",
      "방탄소년단 '다이너마이트' MV, 공개 하루 만에 1억뷰 넘겼다 l ...\n",
      "###<end> list name ###\n",
      "https://www.youtube.com/watch?v=gdZLi9oWNZg\n",
      "https://www.youtube.com/watch?v=S8jfEfai9co\n",
      "https://www.youtube.com/watch?v=IwEiemvSJE8\n",
      "https://www.youtube.com/watch?v=HFTxUrXOrKM\n",
      "https://www.hankyung.com/entertainment/article/202008254782H\n",
      "http://www.newstouch.site/news/articleView.html?idxno=9614\n",
      "https://newsis.com/view?id=NISX20200820_0001136029\n",
      "http://www.upinews.kr/newsView/upi202008210097\n",
      "https://www.yna.co.kr/view/AKR20200823014600005\n",
      "https://world.kbs.co.kr/service/news_view.htm?lang=k&Seq_Code=362649\n"
     ]
    }
   ],
   "source": [
    "for num in range(3,4):#9\n",
    "    driver.find_element_by_css_selector('#xjs > div > table > tbody > tr > td:nth-child(%d) > a' % num).click()\n",
    "    g_list = driver.find_elements_by_css_selector('div.r > a > h3')\n",
    "    for i in g_list:\n",
    "        print(i.text)\n",
    "    print('###<end> list name ###')\n",
    "    g_href = driver.find_elements_by_css_selector('div.r > a')\n",
    "    for i in g_href:\n",
    "        print(i.get_attribute('href'))"
   ]
  },
  {
   "cell_type": "code",
   "execution_count": 104,
   "metadata": {},
   "outputs": [],
   "source": [
    "from time import "
   ]
  },
  {
   "cell_type": "code",
   "execution_count": 105,
   "metadata": {
    "scrolled": true
   },
   "outputs": [
    {
     "name": "stdout",
     "output_type": "stream",
     "text": [
      "BTS (방탄소년단) 'Dynamite' Official MV - YouTube\n",
      "일본방송 빌보드 1위한 BTS 방탄소년단 특집 신곡 ... - YouTube\n",
      "[한글자막] 방탄소년단 (BTS) Dynamite(다이너마이트) 미국 ...\n",
      "전세계서 터진 BTS '다이너마이트'…미국 현지 반응은? - YouTube\n",
      "우리애 목소리가 안들려요…방탄소년단 멤버별 파트 분배 논란 ...\n",
      "방탄소년단(BTS) 신곡 '다이너마이트(Dynamite)' 뮤직비디오 ...\n",
      "방탄소년단, 디스코로 컴백…오늘 '다이너마이트' 공개 :: 공감 ...\n",
      "방탄소년단, 신곡 '다이너마이트' 공개되자마자 '폭발' - UPI뉴스\n",
      "BTS '다이너마이트', 스포티파이 '글로벌 톱 50' 한국 최초 1위 ...\n",
      "방탄소년단 '다이너마이트' MV, 공개 하루 만에 1억뷰 넘겼다 l ...\n",
      "###<end> list name ###\n",
      "https://www.youtube.com/watch?v=gdZLi9oWNZg\n",
      "https://www.youtube.com/watch?v=S8jfEfai9co\n",
      "https://www.youtube.com/watch?v=IwEiemvSJE8\n",
      "https://www.youtube.com/watch?v=HFTxUrXOrKM\n",
      "https://www.hankyung.com/entertainment/article/202008254782H\n",
      "http://www.newstouch.site/news/articleView.html?idxno=9614\n",
      "https://newsis.com/view?id=NISX20200820_0001136029\n",
      "http://www.upinews.kr/newsView/upi202008210097\n",
      "https://www.yna.co.kr/view/AKR20200823014600005\n",
      "https://world.kbs.co.kr/service/news_view.htm?lang=k&Seq_Code=362649\n",
      "코로나 시대 방탄소년단의 '힐링송'…'다이너마이트' 오늘 공개 ...\n",
      "방탄소년단, '다이너마이트'로... - Big Hit ... - Facebook\n",
      "방탄소년단 지민, 'Dynamite' 뮤비 티저 공개 후 전 세계 트렌드 ...\n",
      "\"신나는 영어 곡\" 방탄소년단 새 싱글 제목은 '다이너마이트'\n",
      "방탄소년단 다이너마이트 뮤직비디오 뷔, RM, 제이홉 패션 BTS ...\n",
      "[영상M] 방탄소년단, 첫 영어 곡 '다이너마이트' …\"위로와 응원 ...\n",
      "방탄소년단, 디싱 '다이너마이트' 단체 티저 공개…에너제틱\n",
      "방탄소년단 다이너마이트 | 한국경제TV\n",
      "[문화]영국도 달군 방탄소년단...'다이너마이트'로 싱글 차트 3위 ...\n",
      "방탄소년단 '다이너마이트' 영국 싱글차트 3위로 진입 | 연합뉴스TV\n",
      "###<end> list name ###\n",
      "http://www.hani.co.kr/arti/culture/music/958761.html\n",
      "https://es-la.facebook.com/ibighit/posts/4887587601258766/\n",
      "http://www.polinews.co.kr/news/article.html?no=472467\n",
      "https://imnews.imbc.com/news/2020/culture/article/5862611_32654.html\n",
      "http://blog.naver.com/PostView.nhn?blogId=aapron&logNo=222066868383\n",
      "https://www.m-i.kr/news/articleView.html?idxno=739773\n",
      "https://news.mt.co.kr/mtview.php?no=2020081307138247822\n",
      "http://www.wowtv.co.kr/TotalSearch/Mariner/Index?searchTerm=%EB%B0%A9%ED%83%84%EC%86%8C%EB%85%84%EB%8B%A8%20%EB%8B%A4%EC%9D%B4%EB%84%88%EB%A7%88%EC%9D%B4%ED%8A%B8\n",
      "https://www.ytn.co.kr/_ln/0106_202008290728165005\n",
      "https://www.yonhapnewstv.co.kr/news/MYH20200829005200038\n",
      "방탄소년단, '다이너마이트' 뮤직비디오 티저 공개…디스코로 ...\n",
      "방탄소년단 새 싱글은 '다이너마이트'… 가요계 폭탄 터지나 ...\n",
      "BTS_official on Twitter: \"방탄소년단과 함께하는 'Dynamite ...\n",
      "방탄소년단, 깜짝 신곡 '다이너마이트'로 신기록 역사 또 썼다 ...\n",
      "방탄소년단, '다이너마이트' 뮤비 티저 영상 공개 ... - 뉴스핌\n",
      "방탄소년단 '다이너마이트' 영국 싱글차트 3위…역대 최고순위 ...\n",
      "방탄소년단, 신곡 다이너마이트 새 버전 MV 공개\n",
      "방탄소년단 지민, 다이너마이트 MV 촬영 에피소드 공개 상큼 ...\n",
      "방탄소년단 영어신곡 제목은 '다이너마이트'… 빌보드 '핫100' 1 ...\n",
      "방탄소년단 \"`다이너마이트` 목표? 빌보드 성적보다 희망 메시지 ...\n",
      "###<end> list name ###\n",
      "http://www.incheonilbo.com/news/articleView.html?idxno=1053710\n",
      "http://www.viva100.com/main/view.php?key=20200803010000418\n",
      "https://twitter.com/bts_bighit/status/1296628166308446210\n",
      "https://m.kr.ajunews.com/view/20200824090108069\n",
      "https://www.newspim.com/news/view/20200819000131\n",
      "http://www.cctoday.co.kr/news/articleView.html?idxno=2090582\n",
      "https://www.radiokorea.com/news/article.php?uid=351182\n",
      "http://news.imaeil.com/EntertainmentsAll/2020082709412240986\n",
      "http://www.munhwa.com/news/view.html?no=2020080301032939179001\n",
      "https://www.mk.co.kr/star/musics/view/2020/08/861069/\n",
      "방탄소년단 \"다이너마이트 통해 좋은 기운 전달, 우리가 잘 하는 일\"\n",
      "방탄소년단(BTS), 신곡 '다이너마이트'(Dynamite) 리믹스 버전 ...\n",
      "방탄소년단, 컴백 '다이너마이트' 뮤직비디오 공개 폭발적 반응 ...\n",
      "방탄소년단 \"신곡 '다이너마이트' 듣고 재충전 할 수 있기를\"\n",
      "방탄소년단 '다이너마이트' 트로피컬·풀사이드 버전 공개 - 뉴스1\n",
      "방탄소년단, '다이너마이트'로 빌보드 핫100 차트 1위 ...\n",
      "방탄소년단, 오늘(31일) 美 VMA 트로피 수집 예고 ... - 미디어펜\n",
      "방탄소년단, 신곡 '다이너마이트' 단체 티저 포토 공개…에너제 ...\n",
      "방탄소년단(BTS), '다이너마이트'(Dynamite) 인도네시아 ...\n",
      "BTS, '다이너마이트' 빅히트에… 기존 앨범까지 빌보드 차트 ...\n",
      "###<end> list name ###\n",
      "https://www.edaily.co.kr/news/read?newsId=01131606625870928&mediaCodeNo=258\n",
      "https://www.msn.com/ko-kr/news/other/%EB%B0%A9%ED%83%84%EC%86%8C%EB%85%84%EB%8B%A8-bts-%EC%8B%A0%EA%B3%A1-%EB%8B%A4%EC%9D%B4%EB%84%88%EB%A7%88%EC%9D%B4%ED%8A%B8-dynamite-%EB%A6%AC%EB%AF%B9%EC%8A%A4-%EB%B2%84%EC%A0%84-%EB%B0%9C%EB%A7%A4/ar-BB18iItg\n",
      "http://enter.etoday.co.kr/view/news_view.php?varAtcId=186038\n",
      "https://m.hankookilbo.com/News/Read/A2020082116260004686\n",
      "https://www.news1.kr/articles/?4040220\n",
      "http://www.radiok1230.com/news/articleView.html?idxno=508070\n",
      "http://www.mediapen.com/news/view/552950\n",
      "https://www.sedaily.com/NewsVIew/1Z6KA2UEMW\n",
      "http://m.g-enews.com/view.php?ud=202008061107542538c4c55f9b3d_1\n",
      "http://www.newdaily.co.kr/site/data/html/2020/09/02/2020090200037.html\n",
      "노홍철, 방탄소년단 다이너마이트 등에 업고 미국 진출 도전 ...\n",
      "드디어 완전체 모습으로…방탄소년단 '다이너마이트' 단체 사진 ...\n",
      "방탄소년단 '다이너마이트' 뮤비 공개되자 노홍철이 연관 검색어 ...\n",
      "방탄소년단 다이너마이트 Archives - STREET\n",
      "방탄소년단 '다이너마이트' MV, 세계 최단시간 2 ... - 강원도민일보\n",
      "방탄소년단 '다이너마이트' MV, 세계 최단시간 2억뷰도 달성 ...\n",
      "방탄소년단 컴백, '다이너마이트' 기자간담회 ... - Dailymotion\n",
      "BTS (방탄소년단) - 'Dynamite (다이너마이트 ... - V LIVE\n",
      "BTS가 전 세계에 터뜨린 'K팝 다이너마이트' - 부산일보\n",
      "방탄소년단, `다이너마이트` 새 MV 공개 - [디지털타임스 모바일 ...\n",
      "###<end> list name ###\n",
      "http://newsclaim.co.kr/View.aspx?No=1062151\n",
      "http://m.segye.com/view/20200813507693\n",
      "https://www.huffingtonpost.kr/entry/bts-dynamite-noh-hong-chul_kr_5f4f5bedc5b6fea87462838f\n",
      "https://www.street.co.kr/tag/%EB%B0%A9%ED%83%84%EC%86%8C%EB%85%84%EB%8B%A8-%EB%8B%A4%EC%9D%B4%EB%84%88%EB%A7%88%EC%9D%B4%ED%8A%B8\n",
      "https://www.kado.net/news/articleView.html?idxno=1037175\n",
      "http://www.hyundaiilbo.com/news/articleView.html?idxno=478646\n",
      "https://www.dailymotion.com/video/x7vpccr\n",
      "https://www.vlive.tv/video/210782/BTS-%EB%B0%A9%ED%83%84%EC%86%8C%EB%85%84%EB%8B%A8---Dynamite-%EB%8B%A4%EC%9D%B4%EB%84%88%EB%A7%88%EC%9D%B4%ED%8A%B8-%EF%BD%9CCOVER-by-%EC%B0%A8%EC%9B%90Chawon-of-AWEEK\n",
      "http://www.busan.com/view/busan/view.php?code=2020090118015117452\n",
      "http://www.dt.co.kr/contents.html?article_no=2020082502109919039008\n",
      "BTS, 다이너마이트로 미국 정복한국 가수 최초 '빌보드 싱글 1위 ...\n",
      "방탄소년단, 그들이 가는 길은 'K팝' 역사다 - 천지일보 - 새 시대 ...\n",
      "BTS '다이너마이트' 신기록 '폭발'···최단 시간 1억뷰 달성·스포티 ...\n",
      "방탄소년단, 레트로 감성 가득 '다이너마이트' 뮤비 티저 - 국민일보\n",
      "방탄소년단 RM “'다이너마이트' 미국 시장 성공은 '원기옥' 모은 ...\n",
      "방탄소년단, '다이너마이트' 뮤비 24시간만에 1억뷰 - 경기포커스\n",
      "[서울신문] “BTS '다이너마이트' 그래미상 후보될 것” 외신들 거명 ...\n",
      "[한국NGO신문] 방탄소년단 `다이너마이트` MV, 공개 하루 만에 ...\n",
      "BTS (방탄소년단) - Dynamite (다이너마이트) 가사 해석 번역 ...\n",
      "BTS, '다이너마이트' 빌보드 싱글 1위...\"한국 가수 최초\" - 청년일보\n",
      "###<end> list name ###\n",
      "http://www.kbmaeil.com/news/articleView.html?idxno=855149\n",
      "http://www.newscj.com/news/articleView.html?idxno=775075\n",
      "http://news.khan.co.kr/kh_news/khan_art_view.html?art_id=202008231012001\n",
      "http://m.kmib.co.kr/view.asp?arcid=0014921149\n",
      "http://www.vop.co.kr/A00001509810.html\n",
      "http://www.ggfocus.co.kr/news/articleView.html?idxno=94667\n",
      "https://www.seoul.co.kr/news/newsView.php?id=20200902500013\n",
      "http://m.ngonews.kr/a.html?uid=119746\n",
      "https://simjuliana.tistory.com/3226\n",
      "https://www.youthdaily.co.kr/news/article.html?no=46267\n"
     ]
    }
   ],
   "source": [
    "for num in range(3,9):\n",
    "    driver.find_element_by_css_selector('#xjs > div > table > tbody > tr > td:nth-child(%d) > a' % num).click()\n",
    "    g_list = driver.find_elements_by_css_selector('div.r > a > h3')\n",
    "    for i in g_list:\n",
    "        print(i.)\n",
    "    print('###<end> list name ###\\n')\n",
    "    g_href = driver.find_elements_by_css_selector('div.r > a')\n",
    "    for i in g_href:\n",
    "        print(i.('href'))\n",
    "    sleep(3)"
   ]
  },
  {
   "cell_type": "markdown",
   "metadata": {},
   "source": [
    "# 데이터 프레임으로 만들기"
   ]
  },
  {
   "cell_type": "markdown",
   "metadata": {},
   "source": [
    "### 리스트 더하기"
   ]
  },
  {
   "cell_type": "code",
   "execution_count": 107,
   "metadata": {},
   "outputs": [],
   "source": [
    "title = []"
   ]
  },
  {
   "cell_type": "code",
   "execution_count": 108,
   "metadata": {},
   "outputs": [],
   "source": [
    "title.('방탄다이터마이트')"
   ]
  },
  {
   "cell_type": "code",
   "execution_count": 109,
   "metadata": {},
   "outputs": [
    {
     "data": {
      "text/plain": [
       "['방탄다이터마이트']"
      ]
     },
     "execution_count": 109,
     "metadata": {},
     "output_type": "execute_result"
    }
   ],
   "source": [
    "title"
   ]
  },
  {
   "cell_type": "code",
   "execution_count": 110,
   "metadata": {},
   "outputs": [],
   "source": [
    "title.append('방탄다이터마이트1')"
   ]
  },
  {
   "cell_type": "code",
   "execution_count": 111,
   "metadata": {},
   "outputs": [
    {
     "data": {
      "text/plain": [
       "['방탄다이터마이트', '방탄다이터마이트1']"
      ]
     },
     "execution_count": 111,
     "metadata": {},
     "output_type": "execute_result"
    }
   ],
   "source": [
    "title"
   ]
  },
  {
   "cell_type": "code",
   "execution_count": 115,
   "metadata": {},
   "outputs": [
    {
     "name": "stdout",
     "output_type": "stream",
     "text": [
      "###<end> page2 ###\n",
      "\n",
      "###<end> page3 ###\n",
      "\n"
     ]
    }
   ],
   "source": [
    "title = []\n",
    "link = []\n",
    "for num in (3,5):\n",
    "    driver.find_element_by_css_selector('#xjs > div > table > tbody > tr > td:nth-child(%d) > a' % num).click()\n",
    "    g_list = driver.find_elements_by_css_selector('div.r > a > h3')\n",
    "    for i in g_list:\n",
    "        title.append(i.text)\n",
    "    \n",
    "    g_href = driver.find_elements_by_css_selector('div.r > a')\n",
    "    for i in g_href:\n",
    "        link.append(i.get_attribute('href'))\n",
    "    sleep(3)\n",
    "    print(f'###<end> page{num-1} ###\\n')\n",
    "print('#######  job over ######')"
   ]
  },
  {
   "cell_type": "code",
   "execution_count": 116,
   "metadata": {},
   "outputs": [
    {
     "data": {
      "text/plain": [
       "[\"BTS (방탄소년단) 'Dynamite' Official MV - YouTube\",\n",
       " '일본방송 빌보드 1위한 BTS 방탄소년단 특집 신곡 ... - YouTube',\n",
       " '[한글자막] 방탄소년단 (BTS) Dynamite(다이너마이트) 미국 ...',\n",
       " \"전세계서 터진 BTS '다이너마이트'…미국 현지 반응은? - YouTube\",\n",
       " \"방탄소년단, 신곡 '다이너마이트' 공개되자마자 '폭발' - UPI뉴스\",\n",
       " \"코로나 시대 방탄소년단의 '힐링송'…'다이너마이트 ... - 연합뉴스\",\n",
       " \"방탄소년단, 디스코로 컴백…오늘 '다이너마이트' 공개 :: 공감 ...\",\n",
       " \"방탄소년단(BTS) 신곡 '다이너마이트(Dynamite)' 뮤직비디오 ...\",\n",
       " '컴백 방탄소년단 신곡 다이너마이트가 BTS에게 도전인 이유 ...',\n",
       " \"방탄소년단 '다이너마이트' MV, 공개 하루 만에 1억뷰 넘겼다 l ...\",\n",
       " \"코로나 시대 방탄소년단의 '힐링송'…'다이너마이트 ... - 한겨레\",\n",
       " \"방탄소년단, '다이너마이트'로... - Big Hit ... - Facebook\",\n",
       " '방탄소년단 다이너마이트 | 한국경제TV',\n",
       " \"[문화]영국도 달군 방탄소년단...'다이너마이트'로 싱글 차트 3위 ...\",\n",
       " \"방탄소년단 '다이너마이트' 영국 싱글차트 3위로 진입 | 연합뉴스TV\",\n",
       " \"방탄소년단, '다이너마이트' 뮤직비디오 티저 공개…디스코로 ...\",\n",
       " \"방탄소년단 새 싱글은 '다이너마이트'… 가요계 폭탄 터지나 ...\",\n",
       " \"방탄소년단, 깜짝 신곡 '다이너마이트'로 신기록 역사 또 썼다 ...\",\n",
       " \"방탄소년단 '다이너마이트' MV, 세계 최단시간 2억뷰도 달성\",\n",
       " \"방탄소년단, '다이너마이트' 뮤비 티저 영상 공개 ... - 뉴스핌\"]"
      ]
     },
     "execution_count": 116,
     "metadata": {},
     "output_type": "execute_result"
    }
   ],
   "source": [
    "title"
   ]
  },
  {
   "cell_type": "code",
   "execution_count": 117,
   "metadata": {},
   "outputs": [
    {
     "data": {
      "text/plain": [
       "['https://www.youtube.com/watch?v=gdZLi9oWNZg',\n",
       " 'https://www.youtube.com/watch?v=S8jfEfai9co',\n",
       " 'https://www.youtube.com/watch?v=IwEiemvSJE8',\n",
       " 'https://www.youtube.com/watch?v=HFTxUrXOrKM',\n",
       " 'http://www.upinews.kr/newsView/upi202008210097',\n",
       " 'https://www.yna.co.kr/view/AKR20200821024900005',\n",
       " 'https://newsis.com/view?id=NISX20200820_0001136029',\n",
       " 'http://www.newstouch.site/news/articleView.html?idxno=9614',\n",
       " 'https://www.hankyung.com/entertainment/article/202008210624H',\n",
       " 'https://world.kbs.co.kr/service/news_view.htm?lang=k&Seq_Code=362649',\n",
       " 'http://www.hani.co.kr/arti/culture/music/958761.html',\n",
       " 'https://es-la.facebook.com/ibighit/posts/4887587601258766/',\n",
       " 'http://www.wowtv.co.kr/TotalSearch/Mariner/Index?searchTerm=%EB%B0%A9%ED%83%84%EC%86%8C%EB%85%84%EB%8B%A8%20%EB%8B%A4%EC%9D%B4%EB%84%88%EB%A7%88%EC%9D%B4%ED%8A%B8',\n",
       " 'https://www.ytn.co.kr/_ln/0106_202008290728165005',\n",
       " 'https://www.yonhapnewstv.co.kr/news/MYH20200829005200038',\n",
       " 'http://www.incheonilbo.com/news/articleView.html?idxno=1053710',\n",
       " 'http://www.viva100.com/main/view.php?key=20200803010000418',\n",
       " 'https://m.kr.ajunews.com/view/20200824090108069',\n",
       " 'https://imnews.imbc.com/news/2020/culture/article/5887468_32654.html',\n",
       " 'https://www.newspim.com/news/view/20200819000131']"
      ]
     },
     "execution_count": 117,
     "metadata": {},
     "output_type": "execute_result"
    }
   ],
   "source": [
    "link"
   ]
  },
  {
   "cell_type": "code",
   "execution_count": 118,
   "metadata": {},
   "outputs": [],
   "source": [
    "import pandas as pd"
   ]
  },
  {
   "cell_type": "code",
   "execution_count": 121,
   "metadata": {},
   "outputs": [],
   "source": [
    "bts_df=pd.DataFrame()"
   ]
  },
  {
   "cell_type": "code",
   "execution_count": 122,
   "metadata": {},
   "outputs": [],
   "source": [
    "bts_df['']=; bts_df['']=; "
   ]
  },
  {
   "cell_type": "code",
   "execution_count": 123,
   "metadata": {},
   "outputs": [
    {
     "data": {
      "text/html": [
       "<div>\n",
       "<style scoped>\n",
       "    .dataframe tbody tr th:only-of-type {\n",
       "        vertical-align: middle;\n",
       "    }\n",
       "\n",
       "    .dataframe tbody tr th {\n",
       "        vertical-align: top;\n",
       "    }\n",
       "\n",
       "    .dataframe thead th {\n",
       "        text-align: right;\n",
       "    }\n",
       "</style>\n",
       "<table border=\"1\" class=\"dataframe\">\n",
       "  <thead>\n",
       "    <tr style=\"text-align: right;\">\n",
       "      <th></th>\n",
       "      <th>title</th>\n",
       "      <th>link</th>\n",
       "    </tr>\n",
       "  </thead>\n",
       "  <tbody>\n",
       "    <tr>\n",
       "      <th>0</th>\n",
       "      <td>BTS (방탄소년단) 'Dynamite' Official MV - YouTube</td>\n",
       "      <td>https://www.youtube.com/watch?v=gdZLi9oWNZg</td>\n",
       "    </tr>\n",
       "    <tr>\n",
       "      <th>1</th>\n",
       "      <td>일본방송 빌보드 1위한 BTS 방탄소년단 특집 신곡 ... - YouTube</td>\n",
       "      <td>https://www.youtube.com/watch?v=S8jfEfai9co</td>\n",
       "    </tr>\n",
       "    <tr>\n",
       "      <th>2</th>\n",
       "      <td>[한글자막] 방탄소년단 (BTS) Dynamite(다이너마이트) 미국 ...</td>\n",
       "      <td>https://www.youtube.com/watch?v=IwEiemvSJE8</td>\n",
       "    </tr>\n",
       "    <tr>\n",
       "      <th>3</th>\n",
       "      <td>전세계서 터진 BTS '다이너마이트'…미국 현지 반응은? - YouTube</td>\n",
       "      <td>https://www.youtube.com/watch?v=HFTxUrXOrKM</td>\n",
       "    </tr>\n",
       "    <tr>\n",
       "      <th>4</th>\n",
       "      <td>방탄소년단, 신곡 '다이너마이트' 공개되자마자 '폭발' - UPI뉴스</td>\n",
       "      <td>http://www.upinews.kr/newsView/upi202008210097</td>\n",
       "    </tr>\n",
       "    <tr>\n",
       "      <th>5</th>\n",
       "      <td>코로나 시대 방탄소년단의 '힐링송'…'다이너마이트 ... - 연합뉴스</td>\n",
       "      <td>https://www.yna.co.kr/view/AKR20200821024900005</td>\n",
       "    </tr>\n",
       "    <tr>\n",
       "      <th>6</th>\n",
       "      <td>방탄소년단, 디스코로 컴백…오늘 '다이너마이트' 공개 :: 공감 ...</td>\n",
       "      <td>https://newsis.com/view?id=NISX20200820_000113...</td>\n",
       "    </tr>\n",
       "    <tr>\n",
       "      <th>7</th>\n",
       "      <td>방탄소년단(BTS) 신곡 '다이너마이트(Dynamite)' 뮤직비디오 ...</td>\n",
       "      <td>http://www.newstouch.site/news/articleView.htm...</td>\n",
       "    </tr>\n",
       "    <tr>\n",
       "      <th>8</th>\n",
       "      <td>컴백 방탄소년단 신곡 다이너마이트가 BTS에게 도전인 이유 ...</td>\n",
       "      <td>https://www.hankyung.com/entertainment/article...</td>\n",
       "    </tr>\n",
       "    <tr>\n",
       "      <th>9</th>\n",
       "      <td>방탄소년단 '다이너마이트' MV, 공개 하루 만에 1억뷰 넘겼다 l ...</td>\n",
       "      <td>https://world.kbs.co.kr/service/news_view.htm?...</td>\n",
       "    </tr>\n",
       "    <tr>\n",
       "      <th>10</th>\n",
       "      <td>코로나 시대 방탄소년단의 '힐링송'…'다이너마이트 ... - 한겨레</td>\n",
       "      <td>http://www.hani.co.kr/arti/culture/music/95876...</td>\n",
       "    </tr>\n",
       "    <tr>\n",
       "      <th>11</th>\n",
       "      <td>방탄소년단, '다이너마이트'로... - Big Hit ... - Facebook</td>\n",
       "      <td>https://es-la.facebook.com/ibighit/posts/48875...</td>\n",
       "    </tr>\n",
       "    <tr>\n",
       "      <th>12</th>\n",
       "      <td>방탄소년단 다이너마이트 | 한국경제TV</td>\n",
       "      <td>http://www.wowtv.co.kr/TotalSearch/Mariner/Ind...</td>\n",
       "    </tr>\n",
       "    <tr>\n",
       "      <th>13</th>\n",
       "      <td>[문화]영국도 달군 방탄소년단...'다이너마이트'로 싱글 차트 3위 ...</td>\n",
       "      <td>https://www.ytn.co.kr/_ln/0106_202008290728165005</td>\n",
       "    </tr>\n",
       "    <tr>\n",
       "      <th>14</th>\n",
       "      <td>방탄소년단 '다이너마이트' 영국 싱글차트 3위로 진입 | 연합뉴스TV</td>\n",
       "      <td>https://www.yonhapnewstv.co.kr/news/MYH2020082...</td>\n",
       "    </tr>\n",
       "    <tr>\n",
       "      <th>15</th>\n",
       "      <td>방탄소년단, '다이너마이트' 뮤직비디오 티저 공개…디스코로 ...</td>\n",
       "      <td>http://www.incheonilbo.com/news/articleView.ht...</td>\n",
       "    </tr>\n",
       "    <tr>\n",
       "      <th>16</th>\n",
       "      <td>방탄소년단 새 싱글은 '다이너마이트'… 가요계 폭탄 터지나 ...</td>\n",
       "      <td>http://www.viva100.com/main/view.php?key=20200...</td>\n",
       "    </tr>\n",
       "    <tr>\n",
       "      <th>17</th>\n",
       "      <td>방탄소년단, 깜짝 신곡 '다이너마이트'로 신기록 역사 또 썼다 ...</td>\n",
       "      <td>https://m.kr.ajunews.com/view/20200824090108069</td>\n",
       "    </tr>\n",
       "    <tr>\n",
       "      <th>18</th>\n",
       "      <td>방탄소년단 '다이너마이트' MV, 세계 최단시간 2억뷰도 달성</td>\n",
       "      <td>https://imnews.imbc.com/news/2020/culture/arti...</td>\n",
       "    </tr>\n",
       "    <tr>\n",
       "      <th>19</th>\n",
       "      <td>방탄소년단, '다이너마이트' 뮤비 티저 영상 공개 ... - 뉴스핌</td>\n",
       "      <td>https://www.newspim.com/news/view/20200819000131</td>\n",
       "    </tr>\n",
       "  </tbody>\n",
       "</table>\n",
       "</div>"
      ],
      "text/plain": [
       "                                           title  \\\n",
       "0   BTS (방탄소년단) 'Dynamite' Official MV - YouTube   \n",
       "1     일본방송 빌보드 1위한 BTS 방탄소년단 특집 신곡 ... - YouTube   \n",
       "2     [한글자막] 방탄소년단 (BTS) Dynamite(다이너마이트) 미국 ...   \n",
       "3      전세계서 터진 BTS '다이너마이트'…미국 현지 반응은? - YouTube   \n",
       "4         방탄소년단, 신곡 '다이너마이트' 공개되자마자 '폭발' - UPI뉴스   \n",
       "5         코로나 시대 방탄소년단의 '힐링송'…'다이너마이트 ... - 연합뉴스   \n",
       "6        방탄소년단, 디스코로 컴백…오늘 '다이너마이트' 공개 :: 공감 ...   \n",
       "7     방탄소년단(BTS) 신곡 '다이너마이트(Dynamite)' 뮤직비디오 ...   \n",
       "8           컴백 방탄소년단 신곡 다이너마이트가 BTS에게 도전인 이유 ...   \n",
       "9      방탄소년단 '다이너마이트' MV, 공개 하루 만에 1억뷰 넘겼다 l ...   \n",
       "10         코로나 시대 방탄소년단의 '힐링송'…'다이너마이트 ... - 한겨레   \n",
       "11  방탄소년단, '다이너마이트'로... - Big Hit ... - Facebook   \n",
       "12                         방탄소년단 다이너마이트 | 한국경제TV   \n",
       "13     [문화]영국도 달군 방탄소년단...'다이너마이트'로 싱글 차트 3위 ...   \n",
       "14        방탄소년단 '다이너마이트' 영국 싱글차트 3위로 진입 | 연합뉴스TV   \n",
       "15          방탄소년단, '다이너마이트' 뮤직비디오 티저 공개…디스코로 ...   \n",
       "16          방탄소년단 새 싱글은 '다이너마이트'… 가요계 폭탄 터지나 ...   \n",
       "17        방탄소년단, 깜짝 신곡 '다이너마이트'로 신기록 역사 또 썼다 ...   \n",
       "18            방탄소년단 '다이너마이트' MV, 세계 최단시간 2억뷰도 달성   \n",
       "19         방탄소년단, '다이너마이트' 뮤비 티저 영상 공개 ... - 뉴스핌   \n",
       "\n",
       "                                                 link  \n",
       "0         https://www.youtube.com/watch?v=gdZLi9oWNZg  \n",
       "1         https://www.youtube.com/watch?v=S8jfEfai9co  \n",
       "2         https://www.youtube.com/watch?v=IwEiemvSJE8  \n",
       "3         https://www.youtube.com/watch?v=HFTxUrXOrKM  \n",
       "4      http://www.upinews.kr/newsView/upi202008210097  \n",
       "5     https://www.yna.co.kr/view/AKR20200821024900005  \n",
       "6   https://newsis.com/view?id=NISX20200820_000113...  \n",
       "7   http://www.newstouch.site/news/articleView.htm...  \n",
       "8   https://www.hankyung.com/entertainment/article...  \n",
       "9   https://world.kbs.co.kr/service/news_view.htm?...  \n",
       "10  http://www.hani.co.kr/arti/culture/music/95876...  \n",
       "11  https://es-la.facebook.com/ibighit/posts/48875...  \n",
       "12  http://www.wowtv.co.kr/TotalSearch/Mariner/Ind...  \n",
       "13  https://www.ytn.co.kr/_ln/0106_202008290728165005  \n",
       "14  https://www.yonhapnewstv.co.kr/news/MYH2020082...  \n",
       "15  http://www.incheonilbo.com/news/articleView.ht...  \n",
       "16  http://www.viva100.com/main/view.php?key=20200...  \n",
       "17    https://m.kr.ajunews.com/view/20200824090108069  \n",
       "18  https://imnews.imbc.com/news/2020/culture/arti...  \n",
       "19   https://www.newspim.com/news/view/20200819000131  "
      ]
     },
     "execution_count": 123,
     "metadata": {},
     "output_type": "execute_result"
    }
   ],
   "source": [
    "bts_df"
   ]
  },
  {
   "cell_type": "code",
   "execution_count": 124,
   "metadata": {},
   "outputs": [],
   "source": [
    "bts_df.('bts.xlsx',index=False)"
   ]
  }
 ],
 "metadata": {
  "kernelspec": {
   "display_name": "sba",
   "language": "python",
   "name": "venv"
  },
  "language_info": {
   "codemirror_mode": {
    "name": "ipython",
    "version": 3
   },
   "file_extension": ".py",
   "mimetype": "text/x-python",
   "name": "python",
   "nbconvert_exporter": "python",
   "pygments_lexer": "ipython3",
   "version": "3.8.5"
  }
 },
 "nbformat": 4,
 "nbformat_minor": 2
}
